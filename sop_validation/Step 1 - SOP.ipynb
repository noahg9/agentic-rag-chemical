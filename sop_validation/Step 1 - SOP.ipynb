{
 "cells": [
  {
   "metadata": {},
   "cell_type": "markdown",
   "source": "#### STEP1: Load 1 sop document",
   "id": "a1cd3213b1b29079"
  },
  {
   "cell_type": "code",
   "id": "initial_id",
   "metadata": {
    "collapsed": true,
    "ExecuteTime": {
     "end_time": "2025-03-14T14:40:26.435497Z",
     "start_time": "2025-03-14T14:40:25.273191Z"
    }
   },
   "source": [
    "from config import RESOURCES_PATH\n",
    "from document_loader import load_sop_documents\n",
    "\n",
    "sop_docs = load_sop_documents(RESOURCES_PATH)\n",
    "print(\"[DEBUG] Loaded Work Instructions:\", sop_docs[0].page_content[:1000])"
   ],
   "outputs": [
    {
     "name": "stdout",
     "output_type": "stream",
     "text": [
      "[DEBUG] extract_metadata_from_docx() function started.\n",
      "[DEBUG] Found 6 tables in the document.\n",
      "[DEBUG] Processing Table 1\n",
      "\n",
      "[DEBUG] Table 1 Extracted Text:\n",
      "AG SOLUTION MANUFACTURING PROCEDURE Review: 9 Date: 08/02/2021 | CONFIDENTIAL PRODUCT: ALKYLBENZEN SULFONIC ACID (11027563)\n",
      "\n",
      "[MATCH] Found Review: 9\n",
      "[MATCH] Found Date: 08/02/2021\n",
      "[DEBUG] Processing Table 2\n",
      "\n",
      "[DEBUG] Table 2 Extracted Text:\n",
      "PLANT : | SULFAX |  |  | \n",
      "REACTOR : | R503 |  |  | \n",
      "\n",
      "[DEBUG] Processing Table 3\n",
      "\n",
      "[DEBUG] Table 3 Extracted Text:\n",
      "HAZARD CLASSIFICATION OF THE FINAL PRODUCT: | HAZARD CLASSIFICATION OF THE FINAL PRODUCT: | H302- Harmful if swallowed. H314-Causes severe skin burns and serious eye damage. | H302- Harmful if swallowed. H314-Causes severe skin burns and serious eye damage. | H302- Harmful if swallowed. H314-Causes severe skin burns and serious eye damage.\n",
      "MANUFACTURING PROCEDURE | MANUFACTURING PROCEDURE | MANUFACTURING PROCEDURE | MANUFACTURING PROCEDURE | MANUFACTURING PROCEDURE\n",
      "SAP CODE | DESCRIPTION | DESCRIPTION | P. | LOAD KILOS\n",
      "50386977 | LINEAR ALKYLBENZENE H304- May be fatal if swallowed and enters airways | LINEAR ALKYLBENZENE H304- May be fatal if swallowed and enters airways |  | 750\n",
      "50087496 | LIQUID SULFUR H315- Causes skin irritation. | LIQUID SULFUR H315- Causes skin irritation. |  | 110\n",
      "50059005 | SODIUM HYDROXIDE 30% H318- Causes severe skin burns and eye damage. H290 – May be corrosive to metals | SODIUM HYDROXIDE 30% H318- Causes severe skin burns and eye damage. H290 – May be corrosive to metals |  | 1\n",
      "50197449 | WATER | WATER |  | 8\n",
      "\n",
      "[DEBUG] Processing Table 4\n",
      "\n",
      "[DEBUG] Table 4 Extracted Text:\n",
      "OPERATIONAL METHOD\n",
      "\n",
      "[DEBUG] Processing Table 5\n",
      "\n",
      "[DEBUG] Table 5 Extracted Text:\n",
      "Raw Material Loading\n",
      "1. Check Raw Materials\n",
      "2. Prepare “Day Tank 24.2” from SM-08.\n",
      "3. Prepare the destination for \"DDBS\" (without passing through the maturator): Consult the Shift Supervisor.\n",
      "4. Check parameters according to the desired performance.\n",
      "5. Ensure that the outlet valve of DT24.2 is open and set the previously consulted organic weight in the R-503 screen.\n",
      "6. Start circulating dodecylbenzene through the reactor at the desired flow rate and activate cooling.\n",
      "7. Begin sulfonation with the following conditions:\n",
      "8. Modify gas splitting conditions if required\n",
      "When there is a visible chance in the ester acid drop in the reactor, send the output from the tank into the maturing device.\n",
      "Check acidic index and ester acid colour. If they are both correct, send the “DDBS” through the maturing equipment to the desired endpoint. If Acidic index is not correct, modify base flow in the reactor using the following formula: Actual Acidity Index * Base Kg = Desired Acidity Index * Kgs Base\n",
      "Add the required amount of wáter and send the liquid to the target tank\n",
      "Take a sample at the exit of the “DDBS” maturing device and analyse with Near Infrared\n",
      "Purge oleum once a day and clean tanks 1 and 2\n",
      "\n",
      "[DEBUG] Processing Table 6\n",
      "\n",
      "[DEBUG] Table 6 Extracted Text:\n",
      "PROCESS CONTROL | PROCESS CONTROL | PROCESS CONTROL\n",
      " | METHOD NR | VALUE\n",
      "Acidic Index | 8018 | 180-185 mg KOH/g\n",
      "Anionic Mass | 8049 | 96-98%\n",
      "Humidity | 8227 | 0.5-2%\n",
      "Sulfonates | 8400 | 0-2%\n",
      "ENVIRONMENTAL ASPECTS | ENVIRONMENTAL ASPECTS | ENVIRONMENTAL ASPECTS\n",
      "Waste Management: Sample waste is recoverable within the same production fabrication Wastewater Generation: None. | Waste Management: Sample waste is recoverable within the same production fabrication Wastewater Generation: None. | Waste Management: Sample waste is recoverable within the same production fabrication Wastewater Generation: None.\n",
      "\n",
      "Extracted DOCX structured table data: [[['AG SOLUTION\\nMANUFACTURING PROCEDURE\\nReview: 9\\nDate: 08/02/2021', 'CONFIDENTIAL\\nPRODUCT: ALKYLBENZEN SULFONIC ACID (11027563)']], [{'PLANT\\xa0:': 'REACTOR\\xa0:', 'SULFAX': 'R503', 'Column3': '', 'Column4': '', 'Column5': ''}], [{'HAZARD CLASSIFICATION OF THE FINAL PRODUCT:': 'MANUFACTURING PROCEDURE', 'H302- Harmful if swallowed.\\nH314-Causes severe skin burns and serious eye damage.': 'MANUFACTURING PROCEDURE'}, {'HAZARD CLASSIFICATION OF THE FINAL PRODUCT:': 'DESCRIPTION', 'H302- Harmful if swallowed.\\nH314-Causes severe skin burns and serious eye damage.': 'LOAD\\nKILOS'}, {'HAZARD CLASSIFICATION OF THE FINAL PRODUCT:': 'LINEAR ALKYLBENZENE\\nH304- May be fatal if swallowed and enters airways', 'H302- Harmful if swallowed.\\nH314-Causes severe skin burns and serious eye damage.': '750'}, {'HAZARD CLASSIFICATION OF THE FINAL PRODUCT:': 'LIQUID SULFUR \\nH315- Causes skin irritation.', 'H302- Harmful if swallowed.\\nH314-Causes severe skin burns and serious eye damage.': '110'}, {'HAZARD CLASSIFICATION OF THE FINAL PRODUCT:': 'SODIUM HYDROXIDE 30% \\nH318- Causes severe skin burns and eye damage.\\nH290 – May be corrosive to metals', 'H302- Harmful if swallowed.\\nH314-Causes severe skin burns and serious eye damage.': '1'}, {'HAZARD CLASSIFICATION OF THE FINAL PRODUCT:': 'WATER', 'H302- Harmful if swallowed.\\nH314-Causes severe skin burns and serious eye damage.': '8'}], [['OPERATIONAL METHOD']], [{'Raw Material Loading': '1. Check Raw Materials'}, {'Raw Material Loading': '2. Prepare “Day Tank 24.2” from SM-08.'}, {'Raw Material Loading': '3. Prepare the destination for \"DDBS\" (without passing through the maturator): Consult the Shift Supervisor.'}, {'Raw Material Loading': '4. Check parameters according to the desired performance.'}, {'Raw Material Loading': '5. Ensure that the outlet valve of DT24.2 is open and set the previously consulted organic weight in the R-503 screen.'}, {'Raw Material Loading': '6. Start circulating dodecylbenzene through the reactor at the desired flow rate and activate cooling.'}, {'Raw Material Loading': '7. Begin sulfonation with the following conditions:'}, {'Raw Material Loading': '8. Modify gas splitting conditions if required'}, {'Raw Material Loading': 'When there is a visible chance in the ester acid drop in the reactor, send the output from the tank into the maturing device.'}, {'Raw Material Loading': 'Check acidic index and ester acid colour. If they are both correct, send the “DDBS” through the maturing equipment to the desired endpoint. If Acidic index is not correct, modify base flow in the reactor using the following formula:\\nActual Acidity Index * Base Kg = Desired Acidity Index * Kgs Base'}, {'Raw Material Loading': 'Add the required amount of wáter and send the liquid to the target tank'}, {'Raw Material Loading': 'Take a sample at the exit of the “DDBS” maturing device and analyse with Near Infrared'}, {'Raw Material Loading': 'Purge oleum once a day and clean tanks 1 and 2'}], [{'PROCESS CONTROL': 'VALUE'}, {'PROCESS CONTROL': '180-185 mg KOH/g'}, {'PROCESS CONTROL': '96-98%'}, {'PROCESS CONTROL': '0.5-2%'}, {'PROCESS CONTROL': '0-2%'}, {'PROCESS CONTROL': 'ENVIRONMENTAL ASPECTS'}, {'PROCESS CONTROL': 'Waste Management:\\nSample waste is recoverable within the same production fabrication\\n\\nWastewater Generation: None.'}]]\n",
      "Extracted DOCX structured table data: [[['AG SOLUTION\\nMANUFACTURING PROCEDURE\\nReview: 9\\nDate: 08/02/2021', 'CONFIDENTIAL\\nPRODUCT: ALKYLBENZEN SULFONIC ACID (11027563)']], [{'PLANT\\xa0:': 'REACTOR\\xa0:', 'SULFAX': 'R503', 'Column3': '', 'Column4': '', 'Column5': ''}], [{'HAZARD CLASSIFICATION OF THE FINAL PRODUCT:': 'MANUFACTURING PROCEDURE', 'H302- Harmful if swallowed.\\nH314-Causes severe skin burns and serious eye damage.': 'MANUFACTURING PROCEDURE'}, {'HAZARD CLASSIFICATION OF THE FINAL PRODUCT:': 'DESCRIPTION', 'H302- Harmful if swallowed.\\nH314-Causes severe skin burns and serious eye damage.': 'LOAD\\nKILOS'}, {'HAZARD CLASSIFICATION OF THE FINAL PRODUCT:': 'LINEAR ALKYLBENZENE\\nH304- May be fatal if swallowed and enters airways', 'H302- Harmful if swallowed.\\nH314-Causes severe skin burns and serious eye damage.': '750'}, {'HAZARD CLASSIFICATION OF THE FINAL PRODUCT:': 'LIQUID SULFUR \\nH315- Causes skin irritation.', 'H302- Harmful if swallowed.\\nH314-Causes severe skin burns and serious eye damage.': '110'}, {'HAZARD CLASSIFICATION OF THE FINAL PRODUCT:': 'SODIUM HYDROXIDE 30% \\nH318- Causes severe skin burns and eye damage.\\nH290 – May be corrosive to metals', 'H302- Harmful if swallowed.\\nH314-Causes severe skin burns and serious eye damage.': '1'}, {'HAZARD CLASSIFICATION OF THE FINAL PRODUCT:': 'WATER', 'H302- Harmful if swallowed.\\nH314-Causes severe skin burns and serious eye damage.': '8'}], [['OPERATIONAL METHOD']], [{'Raw Material Loading': '1. Check Raw Materials'}, {'Raw Material Loading': '2. Prepare “Day Tank 24.2” from SM-08.'}, {'Raw Material Loading': '3. Prepare the destination for \"DDBS\" (without passing through the maturator): Consult the Shift Supervisor.'}, {'Raw Material Loading': '4. Check parameters according to the desired performance.'}, {'Raw Material Loading': '5. Ensure that the outlet valve of DT24.2 is open and set the previously consulted organic weight in the R-503 screen.'}, {'Raw Material Loading': '6. Start circulating dodecylbenzene through the reactor at the desired flow rate and activate cooling.'}, {'Raw Material Loading': '7. Begin sulfonation with the following conditions:'}, {'Raw Material Loading': '8. Modify gas splitting conditions if required'}, {'Raw Material Loading': 'When there is a visible chance in the ester acid drop in the reactor, send the output from the tank into the maturing device.'}, {'Raw Material Loading': 'Check acidic index and ester acid colour. If they are both correct, send the “DDBS” through the maturing equipment to the desired endpoint. If Acidic index is not correct, modify base flow in the reactor using the following formula:\\nActual Acidity Index * Base Kg = Desired Acidity Index * Kgs Base'}, {'Raw Material Loading': 'Add the required amount of wáter and send the liquid to the target tank'}, {'Raw Material Loading': 'Take a sample at the exit of the “DDBS” maturing device and analyse with Near Infrared'}, {'Raw Material Loading': 'Purge oleum once a day and clean tanks 1 and 2'}], [{'PROCESS CONTROL': 'VALUE'}, {'PROCESS CONTROL': '180-185 mg KOH/g'}, {'PROCESS CONTROL': '96-98%'}, {'PROCESS CONTROL': '0.5-2%'}, {'PROCESS CONTROL': '0-2%'}, {'PROCESS CONTROL': 'ENVIRONMENTAL ASPECTS'}, {'PROCESS CONTROL': 'Waste Management:\\nSample waste is recoverable within the same production fabrication\\n\\nWastewater Generation: None.'}]]\n",
      "[DEBUG] Loaded Work Instructions: HAZARDOUS OPERATIONS & PREVENTIVE MEASURES\n",
      "Always use standard protective gear (workwear, helmet, safety boots, protective glasses, and face shield when handling any product) and standard chemical protection gloves.\n",
      "If you come into contact with any product, wash immediately and seek medical attention.\n",
      "TABLE DATA:\n",
      "AG SOLUTION\n",
      "MANUFACTURING PROCEDURE\n",
      "Review: 9\n",
      "Date: 08/02/2021 | CONFIDENTIAL\n",
      "PRODUCT: ALKYLBENZEN SULFONIC ACID (11027563)\n",
      "TABLE DATA:\n",
      "PLANT : | SULFAX\n",
      "REACTOR : | R503\n",
      "TABLE DATA:\n",
      "HAZARD CLASSIFICATION OF THE FINAL PRODUCT: | HAZARD CLASSIFICATION OF THE FINAL PRODUCT: | H302- Harmful if swallowed.\n",
      "H314-Causes severe skin burns and serious eye damage. | H302- Harmful if swallowed.\n",
      "H314-Causes severe skin burns and serious eye damage. | H302- Harmful if swallowed.\n",
      "H314-Causes severe skin burns and serious eye damage.\n",
      "MANUFACTURING PROCEDURE | MANUFACTURING PROCEDURE | MANUFACTURING PROCEDURE | MANUFACTURING PROCEDURE | MANUFACTURING PROCEDURE\n",
      "SAP CODE | DESCRIPTION | DESCRIP\n"
     ]
    }
   ],
   "execution_count": 1
  },
  {
   "metadata": {},
   "cell_type": "markdown",
   "source": "#### STEP2: Validate MetaAgent Routing for sop",
   "id": "ced7acc4b677d1cc"
  },
  {
   "metadata": {
    "ExecuteTime": {
     "end_time": "2025-03-14T14:40:45.568185Z",
     "start_time": "2025-03-14T14:40:36.000999Z"
    }
   },
   "cell_type": "code",
   "source": [
    "from retriever import select_qa_chain, setup_sop_retriever\n",
    "\n",
    "sop_docs = setup_sop_retriever([])\n",
    "\n",
    "test_query = \"What are raw materials needed for the production of Alkylbenzen Sulfonic Acid\"\n",
    "\n",
    "qa_chain, agent_type = select_qa_chain(test_query, sop_docs)\n",
    "\n",
    "print(f\"[DEBUG] Query Routed To: {agent_type}\")  # Expected Output: \"SOP\"\n"
   ],
   "id": "11115bc3f8254559",
   "outputs": [
    {
     "name": "stderr",
     "output_type": "stream",
     "text": [
      "C:\\Users\\mnmhy\\PycharmProjects\\agenticrag\\.venv\\Lib\\site-packages\\pydantic\\_internal\\_generate_schema.py:502: UserWarning: <built-in function any> is not a Python type (it may be an instance of an object), Pydantic will allow any object with no validation since we cannot even enforce that the input is an instance of the given type. To get rid of this error wrap the type with `pydantic.SkipValidation`.\n",
      "  warn(\n"
     ]
    },
    {
     "name": "stdout",
     "output_type": "stream",
     "text": [
      "Selected SOP vector store based on query keywords.\n",
      "[DEBUG] Query Routed To: SOP\n"
     ]
    }
   ],
   "execution_count": 2
  }
 ],
 "metadata": {
  "kernelspec": {
   "display_name": "Python 3",
   "language": "python",
   "name": "python3"
  },
  "language_info": {
   "codemirror_mode": {
    "name": "ipython",
    "version": 2
   },
   "file_extension": ".py",
   "mimetype": "text/x-python",
   "name": "python",
   "nbconvert_exporter": "python",
   "pygments_lexer": "ipython2",
   "version": "2.7.6"
  }
 },
 "nbformat": 4,
 "nbformat_minor": 5
}
